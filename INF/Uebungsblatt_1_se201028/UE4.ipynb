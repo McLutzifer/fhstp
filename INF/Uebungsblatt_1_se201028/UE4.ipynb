{
 "cells": [
  {
   "cell_type": "markdown",
   "metadata": {},
   "source": [
    " <h1 style=\"text-align:center\">===================================== </h1>\n",
    " <h1 style=\"text-align:center\">==                      Taschenrechner                      == </h1>\n",
    " <h1 style=\"text-align:center\"> ===================================== </h1>"
   ]
  },
  {
   "cell_type": "code",
   "execution_count": null,
   "metadata": {},
   "outputs": [],
   "source": []
  },
  {
   "cell_type": "code",
   "execution_count": 3,
   "metadata": {},
   "outputs": [],
   "source": [
    "def Taschenrechner():\n",
    "    while True:\n",
    "        try:\n",
    "            f_1 = float(input(\"Bitte Zahl 1 eingeben >> \"))\n",
    "            f_2 = float(input(\"Bitte Zahl 2 eingeben >> \"))\n",
    "            break\n",
    "        except ValueError as err:\n",
    "            print(f'ValueError: {err}')\n",
    "            print(\"Nur Zahlen sind erlaubt!\")\n",
    "        \n",
    "    correct_input = False\n",
    "    solution = 0\n",
    "    while correct_input == False:\n",
    "        rechen_op = input(\"Bitte geben Sie die gewünschte Rechenoperation ein >> \")\n",
    "        if rechen_op == \"+\" or rechen_op.lower() == \"plus\":\n",
    "            solution = f_1 + f_2\n",
    "            correct_input = True\n",
    "        elif rechen_op == \"-\" or rechen_op.lower() == \"minus\":\n",
    "            solution = f_1 - f_2\n",
    "            correct_input = True\n",
    "        elif rechen_op == \"*\" or rechen_op.lower() == \"mal\":\n",
    "            solution = f_1 * f_2\n",
    "            correct_input = True\n",
    "        elif rechen_op == \"/\" or rechen_op.lower() == \"dividiert\":\n",
    "            solution = f_1 / f_2\n",
    "            correct_input = True\n",
    "        else:\n",
    "            print(\"Keine gültige Rechenoperation.\\nDie Möglichkeuten sind '+', '-', '*', '/'\\nBitte eine gültige Rechenoperation eingeben\")\n",
    "\n",
    "    print(f'Ihre Rechnung {f_1} {rechen_op} {f_2}')\n",
    "    print(f'Ergebnis: {solution}')"
   ]
  },
  {
   "cell_type": "markdown",
   "metadata": {},
   "source": [
    "Bitte geben Sie zwei Fließkommazahen ein.  \n",
    "Anschließend geben Sie bitte eine Rechenoperation ein. Zur Auswahl stehen \"+\", \"-\", \"*\" und \"/\""
   ]
  },
  {
   "cell_type": "code",
   "execution_count": 4,
   "metadata": {},
   "outputs": [
    {
     "name": "stdout",
     "output_type": "stream",
     "text": [
      "Bitte Zahl 1 eingeben >> i\n",
      "ValueError: could not convert string to float: 'i'\n",
      "Nur Zahlen sind erlaubt!\n",
      "Bitte Zahl 1 eingeben >> s\n",
      "ValueError: could not convert string to float: 's'\n",
      "Nur Zahlen sind erlaubt!\n",
      "Bitte Zahl 1 eingeben >> =\n",
      "ValueError: could not convert string to float: '='\n",
      "Nur Zahlen sind erlaubt!\n",
      "Bitte Zahl 1 eingeben >> 1\n",
      "Bitte Zahl 2 eingeben >> =\n",
      "ValueError: could not convert string to float: '='\n",
      "Nur Zahlen sind erlaubt!\n",
      "Bitte Zahl 1 eingeben >> 2\n",
      "Bitte Zahl 2 eingeben >> 9\n",
      "Bitte geben Sie die gewünschte Rechenoperation ein >> i\n",
      "Keine gültige Rechenoperation.\n",
      "Die Möglichkeuten sind '+', '-', '*', '/'\n",
      "Bitte eine gültige Rechenoperation eingeben\n",
      "Bitte geben Sie die gewünschte Rechenoperation ein >> d\n",
      "Keine gültige Rechenoperation.\n",
      "Die Möglichkeuten sind '+', '-', '*', '/'\n",
      "Bitte eine gültige Rechenoperation eingeben\n",
      "Bitte geben Sie die gewünschte Rechenoperation ein >> *\n",
      "Ihre Rechnung 2.0 * 9.0\n",
      "Ergebnis: 18.0\n"
     ]
    }
   ],
   "source": [
    "Taschenrechner()"
   ]
  },
  {
   "cell_type": "code",
   "execution_count": null,
   "metadata": {},
   "outputs": [],
   "source": []
  }
 ],
 "metadata": {
  "kernelspec": {
   "display_name": "Python 3",
   "language": "python",
   "name": "python3"
  },
  "language_info": {
   "codemirror_mode": {
    "name": "ipython",
    "version": 3
   },
   "file_extension": ".py",
   "mimetype": "text/x-python",
   "name": "python",
   "nbconvert_exporter": "python",
   "pygments_lexer": "ipython3",
   "version": "3.8.3"
  }
 },
 "nbformat": 4,
 "nbformat_minor": 4
}
