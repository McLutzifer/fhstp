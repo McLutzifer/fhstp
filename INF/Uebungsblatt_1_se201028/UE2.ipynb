{
 "cells": [
  {
   "cell_type": "markdown",
   "metadata": {},
   "source": [
    " <h1 style=\"text-align:center\">===================================== </h1>\n",
    " <h1 style=\"text-align:center\">==                      Taschenrechner                      == </h1>\n",
    " <h1 style=\"text-align:center\"> ===================================== </h1>"
   ]
  },
  {
   "cell_type": "markdown",
   "metadata": {},
   "source": [
    "Bitte geben Sie zwei Fließkommazahlen ein.  \n",
    "Anschließend geben Sie bitte eine Rechenoperation ein. Zur Auswahl stehen \"+\", \"-\", \"*\" und \"/\""
   ]
  },
  {
   "cell_type": "code",
   "execution_count": 2,
   "metadata": {},
   "outputs": [
    {
     "name": "stdout",
     "output_type": "stream",
     "text": [
      "Bitte Zahl 1 eingeben >> 4\n",
      "Bitte Zahl 2 eingeben >> 7\n"
     ]
    }
   ],
   "source": [
    "f_1 = float(input(\"Bitte Zahl 1 eingeben >> \"))\n",
    "f_2 = float(input(\"Bitte Zahl 2 eingeben >> \"))"
   ]
  },
  {
   "cell_type": "code",
   "execution_count": 4,
   "metadata": {},
   "outputs": [
    {
     "name": "stdout",
     "output_type": "stream",
     "text": [
      "Bitte geben Sie die gewünschte Rechenoperation ein >> *\n",
      "Ergebnis: 28.0\n"
     ]
    }
   ],
   "source": [
    "correct_input = False\n",
    "solution = 0\n",
    "while correct_input == False:\n",
    "    rechen_op = input(\"Bitte geben Sie die gewünschte Rechenoperation ein >> \")\n",
    "    if rechen_op == \"+\" or rechen_op.lower() == \"plus\":\n",
    "        solution = f_1 + f_2\n",
    "        correct_input = True\n",
    "    elif rechen_op == \"-\" or rechen_op.lower() == \"minus\":\n",
    "        solution = f_1 - f_2\n",
    "        correct_input = True\n",
    "    elif rechen_op == \"*\" or rechen_op.lower() == \"mal\":\n",
    "        solution = f_1 * f_2\n",
    "        correct_input = True\n",
    "    elif rechen_op == \"/\" or rechen_op.lower() == \"dividiert\":\n",
    "        solution = f_1 / f_2\n",
    "        correct_input = True\n",
    "    else:\n",
    "        print(\"Keine gültige Rechenoperation.\\nDie Möglichkeuten sind '+', '-', '*', '/'\\nBitte eine gültige Rechenoperation eingeben\")\n",
    "        \n",
    "print(f'Ergebnis: {solution}')"
   ]
  }
 ],
 "metadata": {
  "kernelspec": {
   "display_name": "Python 3",
   "language": "python",
   "name": "python3"
  },
  "language_info": {
   "codemirror_mode": {
    "name": "ipython",
    "version": 3
   },
   "file_extension": ".py",
   "mimetype": "text/x-python",
   "name": "python",
   "nbconvert_exporter": "python",
   "pygments_lexer": "ipython3",
   "version": "3.8.3"
  }
 },
 "nbformat": 4,
 "nbformat_minor": 4
}
