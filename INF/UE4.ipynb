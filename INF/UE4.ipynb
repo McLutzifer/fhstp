{
 "cells": [
  {
   "cell_type": "markdown",
   "metadata": {},
   "source": [
    " <h1 style=\"text-align:center\">===================================== </h1>\n",
    " <h1 style=\"text-align:center\">==                      Taschenrechner                      == </h1>\n",
    " <h1 style=\"text-align:center\"> ===================================== </h1>"
   ]
  },
  {
   "cell_type": "code",
   "execution_count": null,
   "metadata": {},
   "outputs": [],
   "source": []
  },
  {
   "cell_type": "code",
   "execution_count": 1,
   "metadata": {},
   "outputs": [],
   "source": [
    "def calculator():\n",
    "    try:\n",
    "        f_1 = float(input(\"Bitte Zahl 1 eingeben >> \"))\n",
    "        f_2 = float(input(\"Bitte Zahl 2 eingeben >> \"))\n",
    "    except ValueError as err:\n",
    "        print(f'ValueError: {err}')\n",
    "        print(\"Nur Zahlen sind erlaubt!\")\n",
    "        \n",
    "    correct_input = False\n",
    "    solution = 0\n",
    "    while correct_input == False:\n",
    "        rechen_op = input(\"Bitte geben Sie die gewünschte Rechenoperation ein >> \")\n",
    "        if rechen_op == \"+\" or rechen_op.lower() == \"plus\":\n",
    "            solution = f_1 + f_2\n",
    "            correct_input = True\n",
    "        elif rechen_op == \"-\" or rechen_op.lower() == \"minus\":\n",
    "            solution = f_1 - f_2\n",
    "            correct_input = True\n",
    "        elif rechen_op == \"*\" or rechen_op.lower() == \"mal\":\n",
    "            solution = f_1 * f_2\n",
    "            correct_input = True\n",
    "        elif rechen_op == \"/\" or rechen_op.lower() == \"dividiert\":\n",
    "            solution = f_1 / f_2\n",
    "            correct_input = True\n",
    "        else:\n",
    "            print(\"Keine gültige Rechenoperation.\\nDie Möglichkeuten sind '+', '-', '*', '/'\\nBitte eine gültige Rechenoperation eingeben\")\n",
    "\n",
    "    print(f'Ihre Rechnung {f_1} {rechen_op} {f_2}')\n",
    "    print(f'Ergebnis: {solution}')"
   ]
  },
  {
   "cell_type": "markdown",
   "metadata": {},
   "source": [
    "Bitte geben Sie zwei Fließkommazahen ein.  \n",
    "Anschließend geben Sie bitte eine Rechenoperation ein. Zur Auswahl stehen \"+\", \"-\", \"*\" und \"/\""
   ]
  },
  {
   "cell_type": "code",
   "execution_count": 3,
   "metadata": {},
   "outputs": [
    {
     "name": "stdout",
     "output_type": "stream",
     "text": [
      "Bitte Zahl 1 eingeben >> 5\n",
      "Bitte Zahl 2 eingeben >> i\n",
      "ValueError: could not convert string to float: 'i'\n",
      "Nur Zahlen sind erlaubt!\n",
      "Bitte geben Sie die gewünschte Rechenoperation ein >> *\n"
     ]
    },
    {
     "ename": "UnboundLocalError",
     "evalue": "local variable 'f_2' referenced before assignment",
     "output_type": "error",
     "traceback": [
      "\u001b[1;31m---------------------------------------------------------------------------\u001b[0m",
      "\u001b[1;31mUnboundLocalError\u001b[0m                         Traceback (most recent call last)",
      "\u001b[1;32m<ipython-input-3-0c616def4ff3>\u001b[0m in \u001b[0;36m<module>\u001b[1;34m\u001b[0m\n\u001b[1;32m----> 1\u001b[1;33m \u001b[0mcalculator\u001b[0m\u001b[1;33m(\u001b[0m\u001b[1;33m)\u001b[0m\u001b[1;33m\u001b[0m\u001b[1;33m\u001b[0m\u001b[0m\n\u001b[0m",
      "\u001b[1;32m<ipython-input-1-00fe6df16c62>\u001b[0m in \u001b[0;36mcalculator\u001b[1;34m()\u001b[0m\n\u001b[0;32m     18\u001b[0m             \u001b[0mcorrect_input\u001b[0m \u001b[1;33m=\u001b[0m \u001b[1;32mTrue\u001b[0m\u001b[1;33m\u001b[0m\u001b[1;33m\u001b[0m\u001b[0m\n\u001b[0;32m     19\u001b[0m         \u001b[1;32melif\u001b[0m \u001b[0mrechen_op\u001b[0m \u001b[1;33m==\u001b[0m \u001b[1;34m\"*\"\u001b[0m \u001b[1;32mor\u001b[0m \u001b[0mrechen_op\u001b[0m\u001b[1;33m.\u001b[0m\u001b[0mlower\u001b[0m\u001b[1;33m(\u001b[0m\u001b[1;33m)\u001b[0m \u001b[1;33m==\u001b[0m \u001b[1;34m\"mal\"\u001b[0m\u001b[1;33m:\u001b[0m\u001b[1;33m\u001b[0m\u001b[1;33m\u001b[0m\u001b[0m\n\u001b[1;32m---> 20\u001b[1;33m             \u001b[0msolution\u001b[0m \u001b[1;33m=\u001b[0m \u001b[0mf_1\u001b[0m \u001b[1;33m*\u001b[0m \u001b[0mf_2\u001b[0m\u001b[1;33m\u001b[0m\u001b[1;33m\u001b[0m\u001b[0m\n\u001b[0m\u001b[0;32m     21\u001b[0m             \u001b[0mcorrect_input\u001b[0m \u001b[1;33m=\u001b[0m \u001b[1;32mTrue\u001b[0m\u001b[1;33m\u001b[0m\u001b[1;33m\u001b[0m\u001b[0m\n\u001b[0;32m     22\u001b[0m         \u001b[1;32melif\u001b[0m \u001b[0mrechen_op\u001b[0m \u001b[1;33m==\u001b[0m \u001b[1;34m\"/\"\u001b[0m \u001b[1;32mor\u001b[0m \u001b[0mrechen_op\u001b[0m\u001b[1;33m.\u001b[0m\u001b[0mlower\u001b[0m\u001b[1;33m(\u001b[0m\u001b[1;33m)\u001b[0m \u001b[1;33m==\u001b[0m \u001b[1;34m\"dividiert\"\u001b[0m\u001b[1;33m:\u001b[0m\u001b[1;33m\u001b[0m\u001b[1;33m\u001b[0m\u001b[0m\n",
      "\u001b[1;31mUnboundLocalError\u001b[0m: local variable 'f_2' referenced before assignment"
     ]
    }
   ],
   "source": [
    "calculator()"
   ]
  },
  {
   "cell_type": "code",
   "execution_count": null,
   "metadata": {},
   "outputs": [],
   "source": []
  }
 ],
 "metadata": {
  "kernelspec": {
   "display_name": "Python 3",
   "language": "python",
   "name": "python3"
  },
  "language_info": {
   "codemirror_mode": {
    "name": "ipython",
    "version": 3
   },
   "file_extension": ".py",
   "mimetype": "text/x-python",
   "name": "python",
   "nbconvert_exporter": "python",
   "pygments_lexer": "ipython3",
   "version": "3.8.3"
  }
 },
 "nbformat": 4,
 "nbformat_minor": 4
}
