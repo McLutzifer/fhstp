{
 "cells": [
  {
   "cell_type": "markdown",
   "metadata": {},
   "source": [
    " <h1 style=\"text-align:center\">===================================== </h1>\n",
    " <h1 style=\"text-align:center\">== LOTTO 6 AUS 45 == </h1>\n",
    " <h1 style=\"text-align:center\">-- Teil 2 -- </h1>\n",
    " <h1 style=\"text-align:center\"> ===================================== </h1>"
   ]
  },
  {
   "cell_type": "code",
   "execution_count": 1,
   "metadata": {},
   "outputs": [],
   "source": [
    "def user_numbers():\n",
    "    \"\"\"\n",
    "    returns: user_nr (type: list)\n",
    "    \n",
    "    Funktion die den User auffordert 6 Zahlen nacheinander einzugeben.\n",
    "    try-Block um zu kontrollieren, ob Input ein int ist, danach if Schleife, die \n",
    "    kontrolliert ob Wert zw 1 und 45 liegt.\n",
    "       \n",
    "    \"\"\"\n",
    "    user_nr = []\n",
    "    l = 0\n",
    "    print('geben Sie 6 eindeutig Zahlen zwischen 1-45 ein: ')\n",
    "    while l != 6:  \n",
    "        print('Bite {}. Zahl eingeben'.format(l+1))\n",
    "        try:\n",
    "            guess = int(input())\n",
    "            if guess < 1 or guess > 45:\n",
    "                print('Bitte nur Zahlen zwischen 1 und 45 eingeben')\n",
    "            elif guess in user_nr:  # Kontrolle, damit keine Zahlen doppelt\n",
    "                print('Bitte keine Zahlen doppelt eingeben')\n",
    "            else:\n",
    "                user_nr.append(guess)\n",
    "                l = l+1\n",
    "        except ValueError:\n",
    "            print('Bitte nur (ganze) Zahlen eingeben')\n",
    "      \n",
    "    user_nr.sort()\n",
    "    return user_nr"
   ]
  },
  {
   "cell_type": "code",
   "execution_count": 2,
   "metadata": {},
   "outputs": [],
   "source": [
    "import random\n",
    "def computer_numbers():  # generiert eine Liste mit 6 untersch. Zufallszahlen\n",
    "    return random.sample(range(1,46), 6)"
   ]
  },
  {
   "cell_type": "code",
   "execution_count": null,
   "metadata": {},
   "outputs": [
    {
     "name": "stdout",
     "output_type": "stream",
     "text": [
      "geben Sie 6 eindeutig Zahlen zwischen 1-45 ein: \n",
      "Bite 1. Zahl eingeben\n"
     ]
    }
   ],
   "source": [
    "balance = 3500\n",
    "lottodict =  {0:0, 1:0, 2:0, 3:0, 4:0, 5:0, 6:0}\n",
    "\n",
    "numbers = user_numbers()\n",
    "print(\"\\n#\\nIhre Zahlen lauten:\\n{}\\n#\".format(numbers))\n",
    "\n",
    "win = False\n",
    "\n",
    "while balance >= 1.5 or win == True:\n",
    "    count = 0\n",
    "    drawn = computer_numbers()\n",
    "    for j in drawn:\n",
    "        if j in numbers:\n",
    "            count += 1  # stimmt Number aus user_number mit gezogener Zufahlszahl überein, erhöht sich Counter um 1. Am Ende der Schleife Counter = Anzahl der \"Treffer\" \n",
    "  \n",
    "    lottodict[count] +=1  # Bei der Anzahl der \"Treffer\" wird entsprechender Zähler im dict erhöht\n",
    "    \n",
    "    if count == 3:\n",
    "        balance += 5.5\n",
    "    elif count == 4:\n",
    "        balance += 55\n",
    "    elif count == 5:\n",
    "        balance += 2500\n",
    "    elif count == 6:\n",
    "        win = True\n",
    "\n",
    "    balance -= 1.5\n",
    "\n",
    "total = 0\n",
    "for key, value in lottodict.items():\n",
    "    print('{}er: {}'.format(key, value))\n",
    "    total += value\n",
    "    \n",
    "print(\"Ziehungen: {}\".format(total))\n",
    "print(\"restliches Guthaben: {}€\".format(balance))\n",
    "    "
   ]
  },
  {
   "cell_type": "code",
   "execution_count": null,
   "metadata": {},
   "outputs": [],
   "source": []
  }
 ],
 "metadata": {
  "kernelspec": {
   "display_name": "Python 3",
   "language": "python",
   "name": "python3"
  },
  "language_info": {
   "codemirror_mode": {
    "name": "ipython",
    "version": 3
   },
   "file_extension": ".py",
   "mimetype": "text/x-python",
   "name": "python",
   "nbconvert_exporter": "python",
   "pygments_lexer": "ipython3",
   "version": "3.8.3"
  }
 },
 "nbformat": 4,
 "nbformat_minor": 4
}
