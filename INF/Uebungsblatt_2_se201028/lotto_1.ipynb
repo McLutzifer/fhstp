{
 "cells": [
  {
   "cell_type": "markdown",
   "metadata": {},
   "source": [
    " <h1 style=\"text-align:center\">===================================== </h1>\n",
    " <h1 style=\"text-align:center\">== LOTTO 6 AUS 45 == </h1>\n",
    " <h1 style=\"text-align:center\">-- Teil 1 -- </h1>\n",
    " <h1 style=\"text-align:center\"> ===================================== </h1>"
   ]
  },
  {
   "cell_type": "code",
   "execution_count": 1,
   "metadata": {},
   "outputs": [],
   "source": [
    "import random    # um Zufallszahlen für Lottoziehung zu generieren\n",
    "import datetime  # um Datum bei ziehungen anzugeben "
   ]
  },
  {
   "cell_type": "code",
   "execution_count": 2,
   "metadata": {},
   "outputs": [],
   "source": [
    "def user_numbers():\n",
    "    \"\"\"\n",
    "    returns: user_nr (type: list)\n",
    "    \n",
    "    Funktion die den User auffordert 6 Zahlen nacheinander einzugeben.\n",
    "    try-Block um zu kontrollieren, ob Input ein int ist, danach if Schleife, die \n",
    "    kontrolliert ob Wert zw 1 und 45 liegt.\n",
    "       \n",
    "    \"\"\"\n",
    "    user_nr = []\n",
    "    l = 0\n",
    "    print('geben Sie 6 eindeutig Zahlen zwischen 1-45 ein: ')\n",
    "    while l != 6:  \n",
    "        print('Bite {}. Zahl eingeben'.format(l+1))\n",
    "        try:\n",
    "            guess = int(input())\n",
    "            if guess < 1 or guess > 45:\n",
    "                print('Bitte nur Zahlen zwischen 1 und 45 eingeben')\n",
    "            elif guess in user_nr:  # Kontrolle, damit keine Zahlen doppelt\n",
    "                print('Bitte keine Zahlen doppelt eingeben')\n",
    "            else:\n",
    "                user_nr.append(guess)\n",
    "                l = l+1\n",
    "        except ValueError:\n",
    "            print('Bitte nur (ganze) Zahlen eingeben')\n",
    "      \n",
    "    user_nr.sort()\n",
    "    return user_nr"
   ]
  },
  {
   "cell_type": "code",
   "execution_count": 3,
   "metadata": {},
   "outputs": [],
   "source": [
    "def computer_numbers():  # generiert eine Liste mit 6 untersch. Zufallszahlen\n",
    "    return random.sample(range(1,46), 6)"
   ]
  },
  {
   "cell_type": "code",
   "execution_count": 4,
   "metadata": {},
   "outputs": [],
   "source": [
    "def get_number():\n",
    "    print('\\nAn wievielen Ziehungen möchten Sie teilnehmen (mind.10)?')\n",
    "\n",
    "    while True:\n",
    "        try:\n",
    "            x = int(input(\"Anzahl der gewünschten Ziehungen >>> \"))\n",
    "            if x > 9:\n",
    "                print(\"Sie nehmen an {} Ziehungen teil\".format(x))\n",
    "                break\n",
    "            else:\n",
    "                print(\"es müssen mindestens 10 sein\")\n",
    "        except ValueError:\n",
    "            print(\"Bitte geben Sie ein Zahl ein\")\n",
    "\n",
    "    return x"
   ]
  },
  {
   "cell_type": "code",
   "execution_count": 5,
   "metadata": {},
   "outputs": [],
   "source": [
    "now = datetime.datetime.now()\n",
    "today = (now.strftime(\"%d.%m.%Y\"))"
   ]
  },
  {
   "cell_type": "code",
   "execution_count": 7,
   "metadata": {},
   "outputs": [
    {
     "name": "stdout",
     "output_type": "stream",
     "text": [
      "geben Sie 6 eindeutig Zahlen zwischen 1-45 ein: \n",
      "Bite 1. Zahl eingeben\n",
      "werwer\n",
      "Bitte nur (ganze) Zahlen eingeben\n",
      "Bite 1. Zahl eingeben\n",
      "werwer\n",
      "Bitte nur (ganze) Zahlen eingeben\n",
      "Bite 1. Zahl eingeben\n",
      "123\n",
      "Bitte nur Zahlen zwischen 1 und 45 eingeben\n",
      "Bite 1. Zahl eingeben\n",
      "0\n",
      "Bitte nur Zahlen zwischen 1 und 45 eingeben\n",
      "Bite 1. Zahl eingeben\n",
      "-4\n",
      "Bitte nur Zahlen zwischen 1 und 45 eingeben\n",
      "Bite 1. Zahl eingeben\n",
      "2.5\n",
      "Bitte nur (ganze) Zahlen eingeben\n",
      "Bite 1. Zahl eingeben\n",
      "1 2 3 4 5 6\n",
      "Bitte nur (ganze) Zahlen eingeben\n",
      "Bite 1. Zahl eingeben\n",
      "1\n",
      "Bite 2. Zahl eingeben\n",
      "2\n",
      "Bite 3. Zahl eingeben\n",
      "3\n",
      "Bite 4. Zahl eingeben\n",
      "4\n",
      "Bite 5. Zahl eingeben\n",
      "5\n",
      "Bite 6. Zahl eingeben\n",
      "6\n",
      "\n",
      "##########################################\n",
      "Ihre Zahlen für die Ziehungen vom 04.01.2021 lauten:\n",
      "[1, 2, 3, 4, 5, 6]\n",
      "##########################################\n",
      "\n",
      "An wievielen Ziehungen möchten Sie teilnehmen (mind.10)?\n",
      "Anzahl der gewünschten Ziehungen >>> 233123\n",
      "Sie nehmen an 233123 Ziehungen teil\n",
      "\n",
      "Ihre Gewinne:\n",
      "\n",
      "0er: 93058\n",
      "1er: 98921\n",
      "2er: 35573\n",
      "3er: 5248\n",
      "4er: 316\n",
      "5er: 7\n",
      "6er: 0\n"
     ]
    }
   ],
   "source": [
    "# Dictionary mit möglichen Treffern, Zähler jeweils auf Null\n",
    "lottodict =  {0:0, 1:0, 2:0, 3:0, 4:0, 5:0, 6:0}\n",
    "\n",
    "numbers = user_numbers()\n",
    "print(\"\\n##########################################\\nIhre Zahlen für die Ziehungen vom {} lauten:\\n{}\\n##########################################\".format(today, numbers))\n",
    "x = get_number()\n",
    "\n",
    "print(\"\\nIhre Gewinne:\\n\")\n",
    "\n",
    "for i in range(x):\n",
    "    count = 0\n",
    "    drawn = computer_numbers()\n",
    "    for j in drawn:\n",
    "        if j in numbers:\n",
    "            count += 1  # stimmt Number aus user_number mit gezogener Zufahlszahl überein, erhöht sich Counter um 1. Am Ende der Schleife Counter = Anzahl der \"Treffer\" \n",
    "  \n",
    "    lottodict[count] +=1  # Bei der Anzahl der \"Treffer\" wird entsprechender Zähler im dict erhöht\n",
    "    \n",
    "\n",
    "for key, value in lottodict.items():\n",
    "    print('{}er: {}'.format(key, value))"
   ]
  },
  {
   "cell_type": "code",
   "execution_count": 11,
   "metadata": {},
   "outputs": [],
   "source": []
  }
 ],
 "metadata": {
  "kernelspec": {
   "display_name": "Python 3",
   "language": "python",
   "name": "python3"
  },
  "language_info": {
   "codemirror_mode": {
    "name": "ipython",
    "version": 3
   },
   "file_extension": ".py",
   "mimetype": "text/x-python",
   "name": "python",
   "nbconvert_exporter": "python",
   "pygments_lexer": "ipython3",
   "version": "3.8.3"
  }
 },
 "nbformat": 4,
 "nbformat_minor": 4
}
