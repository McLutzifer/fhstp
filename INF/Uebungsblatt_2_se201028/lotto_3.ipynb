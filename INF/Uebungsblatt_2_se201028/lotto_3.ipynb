{
 "cells": [
  {
   "cell_type": "markdown",
   "metadata": {},
   "source": [
    " <h1 style=\"text-align:center\">===================================== </h1>\n",
    " <h1 style=\"text-align:center\">== LOTTO 6 AUS 45 == </h1>\n",
    " <h1 style=\"text-align:center\">-- Teil 3 -- </h1>\n",
    " <h1 style=\"text-align:center\"> ===================================== </h1>"
   ]
  },
  {
   "cell_type": "code",
   "execution_count": 8,
   "metadata": {},
   "outputs": [],
   "source": [
    "from time import time"
   ]
  },
  {
   "cell_type": "code",
   "execution_count": 9,
   "metadata": {},
   "outputs": [],
   "source": [
    "def user_numbers():\n",
    "    \"\"\"\n",
    "    returns: user_nr (type: list)\n",
    "    \n",
    "    Funktion die den User auffordert 6 Zahlen nacheinander einzugeben.\n",
    "    try-Block um zu kontrollieren, ob Input ein int ist, danach if Schleife, die \n",
    "    kontrolliert ob Wert zw 1 und 45 liegt.\n",
    "       \n",
    "    \"\"\"\n",
    "    user_nr = []\n",
    "    l = 0\n",
    "    print('geben Sie 6 eindeutig Zahlen zwischen 1-45 ein: ')\n",
    "    while l != 6:  \n",
    "        print('Bite {}. Zahl eingeben'.format(l+1))\n",
    "        try:\n",
    "            guess = int(input())\n",
    "            if guess < 1 or guess > 45:\n",
    "                print('Bitte nur Zahlen zwischen 1 und 45 eingeben')\n",
    "            elif guess in user_nr:  # Kontrolle, damit keine Zahlen doppelt\n",
    "                print('Bitte keine Zahlen doppelt eingeben')\n",
    "            else:\n",
    "                user_nr.append(guess)\n",
    "                l = l+1\n",
    "        except ValueError:\n",
    "            print('Bitte nur (ganze) Zahlen eingeben')\n",
    "      \n",
    "    user_nr.sort()\n",
    "    return user_nr"
   ]
  },
  {
   "cell_type": "code",
   "execution_count": 10,
   "metadata": {},
   "outputs": [],
   "source": [
    "import random\n",
    "def computer_numbers():  # generiert eine Liste mit 6 untersch. Zufallszahlen\n",
    "    return random.sample(range(1,46), 6)"
   ]
  },
  {
   "cell_type": "code",
   "execution_count": 18,
   "metadata": {},
   "outputs": [
    {
     "name": "stdout",
     "output_type": "stream",
     "text": [
      "geben Sie 6 eindeutig Zahlen zwischen 1-45 ein: \n",
      "Bite 1. Zahl eingeben\n",
      "12\n",
      "Bite 2. Zahl eingeben\n",
      "23\n",
      "Bite 3. Zahl eingeben\n",
      "34\n",
      "Bite 4. Zahl eingeben\n",
      "43\n",
      "Bite 5. Zahl eingeben\n",
      "32\n",
      "Bite 6. Zahl eingeben\n",
      "21\n",
      "\n",
      "#\n",
      "Ihre Zahlen lauten:\n",
      "[12, 21, 23, 32, 34, 43]\n",
      "#\n",
      "0er: 2243\n",
      "1er: 2324\n",
      "2er: 832\n",
      "3er: 131\n",
      "4er: 6\n",
      "5er: 1\n",
      "6er: 0\n",
      "Ziehungen: 5537\n",
      "Zeit: 4.47 Sekunden \n"
     ]
    }
   ],
   "source": [
    "startTime = time()\n",
    "lottodict =  {0:0, 1:0, 2:0, 3:0, 4:0, 5:0, 6:0}\n",
    "\n",
    "numbers = user_numbers()\n",
    "print(\"\\n#\\nIhre Zahlen lauten:\\n{}\\n#\".format(numbers))\n",
    "\n",
    "five = False\n",
    "while five == False:\n",
    "    count = 0\n",
    "    drawn = computer_numbers()\n",
    "    for j in drawn:\n",
    "        if j in numbers:\n",
    "            count += 1  # stimmt Number aus user_number mit gezogener Zufahlszahl überein, erhöht sich Counter um 1. Am Ende der Schleife Counter = Anzahl der \"Treffer\" \n",
    "  \n",
    "    lottodict[count] +=1  # Bei der Anzahl der \"Treffer\" wird entsprechender Zähler im dict erhöht\n",
    "    \n",
    "    if count == 5 or count == 6:\n",
    "        five = True\n",
    "\n",
    "total = 0\n",
    "for key, value in lottodict.items():\n",
    "    print('{}er: {}'.format(key, value))\n",
    "    total += value\n",
    "\n",
    "duration = time() - startTime\n",
    "\n",
    "print(\"Ziehungen: {}\".format(total))\n",
    "print(\"Zeit: {} Sekunden \".format(round(duration, 2)))\n",
    "    "
   ]
  }
 ],
 "metadata": {
  "kernelspec": {
   "display_name": "Python 3",
   "language": "python",
   "name": "python3"
  },
  "language_info": {
   "codemirror_mode": {
    "name": "ipython",
    "version": 3
   },
   "file_extension": ".py",
   "mimetype": "text/x-python",
   "name": "python",
   "nbconvert_exporter": "python",
   "pygments_lexer": "ipython3",
   "version": "3.8.3"
  }
 },
 "nbformat": 4,
 "nbformat_minor": 4
}
