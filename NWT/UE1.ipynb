{
 "cells": [
  {
   "cell_type": "markdown",
   "metadata": {},
   "source": [
    " <h1 style=\"text-align:center\">===================================== </h1>\n",
    " <h1 style=\"text-align:center\">==                      Taschenrechner                      == </h1>\n",
    " <h1 style=\"text-align:center\"> ===================================== </h1>"
   ]
  },
  {
   "cell_type": "markdown",
   "metadata": {},
   "source": [
    "Bitte geben Sie zwei Fließkommazahen ein.  \n",
    "Anschließend wird die Summe aus den beiden errechnet."
   ]
  },
  {
   "cell_type": "code",
   "execution_count": 2,
   "metadata": {},
   "outputs": [
    {
     "name": "stdout",
     "output_type": "stream",
     "text": [
      "Bitte Zahl 1 eingeben >> 6\n",
      "Bitte Zahl 2 eingeben >> 4\n"
     ]
    }
   ],
   "source": [
    "f_1 = float(input(\"Bitte Zahl 1 eingeben >> \"))\n",
    "f_2 = float(input(\"Bitte Zahl 2 eingeben >> \"))\n",
    "summe = f_1 + f_2"
   ]
  },
  {
   "cell_type": "code",
   "execution_count": 3,
   "metadata": {},
   "outputs": [
    {
     "name": "stdout",
     "output_type": "stream",
     "text": [
      "Ergebnis: 10.0\n"
     ]
    }
   ],
   "source": [
    "print(\"Ergebnis: \" + str(summe))"
   ]
  }
 ],
 "metadata": {
  "kernelspec": {
   "display_name": "Python 3",
   "language": "python",
   "name": "python3"
  },
  "language_info": {
   "codemirror_mode": {
    "name": "ipython",
    "version": 3
   },
   "file_extension": ".py",
   "mimetype": "text/x-python",
   "name": "python",
   "nbconvert_exporter": "python",
   "pygments_lexer": "ipython3",
   "version": "3.8.3"
  }
 },
 "nbformat": 4,
 "nbformat_minor": 4
}
